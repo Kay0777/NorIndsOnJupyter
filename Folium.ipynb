
{
 "cells": [
  {
   "cell_type": "code",
   "execution_count": 3,
   "metadata": {},
   "outputs": [],
   "source": [
    "import folium\n",
    "from osgeo import gdal, osr, ogr"
   ]
  },
  {
   "cell_type": "code",
   "execution_count": 15,
   "metadata": {},
   "outputs": [],
   "source": [
    "SHAPE_FILE = 'shapes/Test123.shp'\n",
    "GeoJson = 'shapes/Test123.geojson'\n",
    "\n",
    "driver = ogr.GetDriverByName('ESRI Shapefile')\n",
    "shape = driver.Open(SHAPE_FILE)"
   ]
  },
  {
   "cell_type": "code",
   "execution_count": 16,
   "metadata": {},
   "outputs": [
    {
     "name": "stdout",
     "output_type": "stream",
     "text": [
      "(71.0076709332668, 71.01090279629643, 40.38855526106921, 40.39197033123399)\n"
     ]
    }
   ],
   "source": [
    "inLayer = shape.GetLayer()\n",
    "for feature in inLayer:\n",
    "    geom = feature.GetGeometryRef()\n",
    "    print(geom.GetEnvelope())"
   ]
  },
  {
   "cell_type": "code",
   "execution_count": 23,
   "metadata": {},
   "outputs": [
    {
     "data": {
      "text/html": [
       "<div style=\"width:100%;\"><div style=\"position:relative;width:100%;height:0;padding-bottom:60%;\"><span style=\"color:#565656\">Make this Notebook Trusted to load map: File -> Trust Notebook</span><iframe src=\"about:blank\" style=\"position:absolute;width:100%;height:100%;left:0;top:0;border:none !important;\" data-html=PCFET0NUWVBFIGh0bWw+CjxoZWFkPiAgICAKICAgIDxtZXRhIGh0dHAtZXF1aXY9ImNvbnRlbnQtdHlwZSIgY29udGVudD0idGV4dC9odG1sOyBjaGFyc2V0PVVURi04IiAvPgogICAgCiAgICAgICAgPHNjcmlwdD4KICAgICAgICAgICAgTF9OT19UT1VDSCA9IGZhbHNlOwogICAgICAgICAgICBMX0RJU0FCTEVfM0QgPSBmYWxzZTsKICAgICAgICA8L3NjcmlwdD4KICAgIAogICAgPHNjcmlwdCBzcmM9Imh0dHBzOi8vY2RuLmpzZGVsaXZyLm5ldC9ucG0vbGVhZmxldEAxLjYuMC9kaXN0L2xlYWZsZXQuanMiPjwvc2NyaXB0PgogICAgPHNjcmlwdCBzcmM9Imh0dHBzOi8vY29kZS5qcXVlcnkuY29tL2pxdWVyeS0xLjEyLjQubWluLmpzIj48L3NjcmlwdD4KICAgIDxzY3JpcHQgc3JjPSJodHRwczovL21heGNkbi5ib290c3RyYXBjZG4uY29tL2Jvb3RzdHJhcC8zLjIuMC9qcy9ib290c3RyYXAubWluLmpzIj48L3NjcmlwdD4KICAgIDxzY3JpcHQgc3JjPSJodHRwczovL2NkbmpzLmNsb3VkZmxhcmUuY29tL2FqYXgvbGlicy9MZWFmbGV0LmF3ZXNvbWUtbWFya2Vycy8yLjAuMi9sZWFmbGV0LmF3ZXNvbWUtbWFya2Vycy5qcyI+PC9zY3JpcHQ+CiAgICA8bGluayByZWw9InN0eWxlc2hlZXQiIGhyZWY9Imh0dHBzOi8vY2RuLmpzZGVsaXZyLm5ldC9ucG0vbGVhZmxldEAxLjYuMC9kaXN0L2xlYWZsZXQuY3NzIi8+CiAgICA8bGluayByZWw9InN0eWxlc2hlZXQiIGhyZWY9Imh0dHBzOi8vbWF4Y2RuLmJvb3RzdHJhcGNkbi5jb20vYm9vdHN0cmFwLzMuMi4wL2Nzcy9ib290c3RyYXAubWluLmNzcyIvPgogICAgPGxpbmsgcmVsPSJzdHlsZXNoZWV0IiBocmVmPSJodHRwczovL21heGNkbi5ib290c3RyYXBjZG4uY29tL2Jvb3RzdHJhcC8zLjIuMC9jc3MvYm9vdHN0cmFwLXRoZW1lLm1pbi5jc3MiLz4KICAgIDxsaW5rIHJlbD0ic3R5bGVzaGVldCIgaHJlZj0iaHR0cHM6Ly9tYXhjZG4uYm9vdHN0cmFwY2RuLmNvbS9mb250LWF3ZXNvbWUvNC42LjMvY3NzL2ZvbnQtYXdlc29tZS5taW4uY3NzIi8+CiAgICA8bGluayByZWw9InN0eWxlc2hlZXQiIGhyZWY9Imh0dHBzOi8vY2RuanMuY2xvdWRmbGFyZS5jb20vYWpheC9saWJzL0xlYWZsZXQuYXdlc29tZS1tYXJrZXJzLzIuMC4yL2xlYWZsZXQuYXdlc29tZS1tYXJrZXJzLmNzcyIvPgogICAgPGxpbmsgcmVsPSJzdHlsZXNoZWV0IiBocmVmPSJodHRwczovL3Jhd2Nkbi5naXRoYWNrLmNvbS9weXRob24tdmlzdWFsaXphdGlvbi9mb2xpdW0vbWFzdGVyL2ZvbGl1bS90ZW1wbGF0ZXMvbGVhZmxldC5hd2Vzb21lLnJvdGF0ZS5jc3MiLz4KICAgIDxzdHlsZT5odG1sLCBib2R5IHt3aWR0aDogMTAwJTtoZWlnaHQ6IDEwMCU7bWFyZ2luOiAwO3BhZGRpbmc6IDA7fTwvc3R5bGU+CiAgICA8c3R5bGU+I21hcCB7cG9zaXRpb246YWJzb2x1dGU7dG9wOjA7Ym90dG9tOjA7cmlnaHQ6MDtsZWZ0OjA7fTwvc3R5bGU+CiAgICAKICAgICAgICAgICAgPG1ldGEgbmFtZT0idmlld3BvcnQiIGNvbnRlbnQ9IndpZHRoPWRldmljZS13aWR0aCwKICAgICAgICAgICAgICAgIGluaXRpYWwtc2NhbGU9MS4wLCBtYXhpbXVtLXNjYWxlPTEuMCwgdXNlci1zY2FsYWJsZT1ubyIgLz4KICAgICAgICAgICAgPHN0eWxlPgogICAgICAgICAgICAgICAgI21hcF9hMDc0MWM5ZjBjMjI0ZWI5Yjg5ZDQ2ZmZmZjgyOTEzYyB7CiAgICAgICAgICAgICAgICAgICAgcG9zaXRpb246IHJlbGF0aXZlOwogICAgICAgICAgICAgICAgICAgIHdpZHRoOiAxMDAuMCU7CiAgICAgICAgICAgICAgICAgICAgaGVpZ2h0OiAxMDAuMCU7CiAgICAgICAgICAgICAgICAgICAgbGVmdDogMC4wJTsKICAgICAgICAgICAgICAgICAgICB0b3A6IDAuMCU7CiAgICAgICAgICAgICAgICB9CiAgICAgICAgICAgIDwvc3R5bGU+CiAgICAgICAgCjwvaGVhZD4KPGJvZHk+ICAgIAogICAgCiAgICAgICAgICAgIDxkaXYgY2xhc3M9ImZvbGl1bS1tYXAiIGlkPSJtYXBfYTA3NDFjOWYwYzIyNGViOWI4OWQ0NmZmZmY4MjkxM2MiID48L2Rpdj4KICAgICAgICAKPC9ib2R5Pgo8c2NyaXB0PiAgICAKICAgIAogICAgICAgICAgICB2YXIgbWFwX2EwNzQxYzlmMGMyMjRlYjliODlkNDZmZmZmODI5MTNjID0gTC5tYXAoCiAgICAgICAgICAgICAgICAibWFwX2EwNzQxYzlmMGMyMjRlYjliODlkNDZmZmZmODI5MTNjIiwKICAgICAgICAgICAgICAgIHsKICAgICAgICAgICAgICAgICAgICBjZW50ZXI6IFs0MS4zMDIxNjUyLCA2NC4wODUzNTQxXSwKICAgICAgICAgICAgICAgICAgICBjcnM6IEwuQ1JTLkVQU0czODU3LAogICAgICAgICAgICAgICAgICAgIHpvb206IDYsCiAgICAgICAgICAgICAgICAgICAgem9vbUNvbnRyb2w6IHRydWUsCiAgICAgICAgICAgICAgICAgICAgcHJlZmVyQ2FudmFzOiBmYWxzZSwKICAgICAgICAgICAgICAgIH0KICAgICAgICAgICAgKTsKCiAgICAgICAgICAgIAoKICAgICAgICAKICAgIAogICAgICAgICAgICB2YXIgdGlsZV9sYXllcl8wYzJiMDc3MzM4MDU0YTkwYWQzMjI4YzM0NTU3N2E5NCA9IEwudGlsZUxheWVyKAogICAgICAgICAgICAgICAgImh0dHBzOi8ve3N9LnRpbGUub3BlbnN0cmVldG1hcC5vcmcve3p9L3t4fS97eX0ucG5nIiwKICAgICAgICAgICAgICAgIHsiYXR0cmlidXRpb24iOiAiRGF0YSBieSBcdTAwMjZjb3B5OyBcdTAwM2NhIGhyZWY9XCJodHRwOi8vb3BlbnN0cmVldG1hcC5vcmdcIlx1MDAzZU9wZW5TdHJlZXRNYXBcdTAwM2MvYVx1MDAzZSwgdW5kZXIgXHUwMDNjYSBocmVmPVwiaHR0cDovL3d3dy5vcGVuc3RyZWV0bWFwLm9yZy9jb3B5cmlnaHRcIlx1MDAzZU9EYkxcdTAwM2MvYVx1MDAzZS4iLCAiZGV0ZWN0UmV0aW5hIjogZmFsc2UsICJtYXhOYXRpdmVab29tIjogMTgsICJtYXhab29tIjogMTgsICJtaW5ab29tIjogMCwgIm5vV3JhcCI6IGZhbHNlLCAib3BhY2l0eSI6IDEsICJzdWJkb21haW5zIjogImFiYyIsICJ0bXMiOiBmYWxzZX0KICAgICAgICAgICAgKS5hZGRUbyhtYXBfYTA3NDFjOWYwYzIyNGViOWI4OWQ0NmZmZmY4MjkxM2MpOwogICAgICAgIAogICAgCiAgICAgICAgZnVuY3Rpb24gZ2VvX2pzb25fMmRkYzU2NGRjZmQ3NGJjYjlkNTRhMmZiOWFlZjAxMmVfb25FYWNoRmVhdHVyZShmZWF0dXJlLCBsYXllcikgewogICAgICAgICAgICBsYXllci5vbih7CiAgICAgICAgICAgICAgICBjbGljazogZnVuY3Rpb24oZSkgewogICAgICAgICAgICAgICAgICAgIG1hcF9hMDc0MWM5ZjBjMjI0ZWI5Yjg5ZDQ2ZmZmZjgyOTEzYy5maXRCb3VuZHMoZS50YXJnZXQuZ2V0Qm91bmRzKCkpOwogICAgICAgICAgICAgICAgfQogICAgICAgICAgICB9KTsKICAgICAgICB9OwogICAgICAgIHZhciBnZW9fanNvbl8yZGRjNTY0ZGNmZDc0YmNiOWQ1NGEyZmI5YWVmMDEyZSA9IEwuZ2VvSnNvbihudWxsLCB7CiAgICAgICAgICAgICAgICBvbkVhY2hGZWF0dXJlOiBnZW9fanNvbl8yZGRjNTY0ZGNmZDc0YmNiOWQ1NGEyZmI5YWVmMDEyZV9vbkVhY2hGZWF0dXJlLAogICAgICAgICAgICAKICAgICAgICB9KS5hZGRUbyhtYXBfYTA3NDFjOWYwYzIyNGViOWI4OWQ0NmZmZmY4MjkxM2MpOwoKICAgICAgICBmdW5jdGlvbiBnZW9fanNvbl8yZGRjNTY0ZGNmZDc0YmNiOWQ1NGEyZmI5YWVmMDEyZV9hZGQgKGRhdGEpIHsKICAgICAgICAgICAgZ2VvX2pzb25fMmRkYzU2NGRjZmQ3NGJjYjlkNTRhMmZiOWFlZjAxMmUuYWRkRGF0YShkYXRhKTsKICAgICAgICB9CiAgICAgICAgICAgIGdlb19qc29uXzJkZGM1NjRkY2ZkNzRiY2I5ZDU0YTJmYjlhZWYwMTJlX2FkZCh7ImNycyI6IHsicHJvcGVydGllcyI6IHsibmFtZSI6ICJ1cm46b2djOmRlZjpjcnM6T0dDOjEuMzpDUlM4NCJ9LCAidHlwZSI6ICJuYW1lIn0sICJmZWF0dXJlcyI6IFt7Imdlb21ldHJ5IjogeyJjb29yZGluYXRlcyI6IFtbWzcxLjAwODEyNDM0MzU3ODA5LCA0MC4zOTE5NzAzMzEyMzM5OSwgMC4wXSwgWzcxLjAwODc1NjU0NzU2NDcyLCA0MC4zOTE4NTk2Mzg5OTA2NSwgMC4wXSwgWzcxLjAwOTIyNjE4NjE3NjkyLCA0MC4zOTE3NzQzNTEwNDE4LCAwLjBdLCBbNzEuMDA5NTg0MzkxMzgzNzEsIDQwLjM5MTY2OTk3NTEwMjcxLCAwLjBdLCBbNzEuMDEwMDM2MjYxMzE1NDUsIDQwLjM5MTQ4MTM4MTQwNTc5LCAwLjBdLCBbNzEuMDEwNDg3ODY4MDU4MzUsIDQwLjM5MTI4NjM4NzAwNTI5LCAwLjBdLCBbNzEuMDEwODE5NzM2OTk4MjYsIDQwLjM5MTEzNjkzMjI4NjM5LCAwLjBdLCBbNzEuMDEwODg3MzQ5MTE1MjgsIDQwLjM5MTAzMzAyMzM5MTU5LCAwLjBdLCBbNzEuMDEwOTAyNzk2Mjk2NDMsIDQwLjM5MDc0NzYwMDcwMTA4LCAwLjBdLCBbNzEuMDEwODMzMTEwNTkwNjgsIDQwLjM5MDM0NjA0OTQ5MTA3LCAwLjBdLCBbNzEuMDEwNzgwNTg1OTQwMjUsIDQwLjM4OTc5NjI1OTQ4Nzk4LCAwLjBdLCBbNzEuMDEwNzQ1Mjc0MDMzOTcsIDQwLjM4OTI4NjA2MjIyOTQ0LCAwLjBdLCBbNzEuMDEwNzEwNjY5MjAwOTYsIDQwLjM4OTAzNDQ2ODk3NTM2LCAwLjBdLCBbNzEuMDEwNjc2NTM0NDMwNTIsIDQwLjM4ODk2MzU0MTQ2NTUsIDAuMF0sIFs3MS4wMTAzMzY4NTU1NzA2MSwgNDAuMzg4ODk5MDgwNTExMzUsIDAuMF0sIFs3MS4wMDk0MDMxMTExNjM3NSwgNDAuMzg4NzQ0Mjg0OTk4NiwgMC4wXSwgWzcxLjAwODQ4NjE5Nzg3MDc4LCA0MC4zODg1ODc0OTcyMDMyMSwgMC4wXSwgWzcxLjAwNzk3NjY5MDYyMzM0LCA0MC4zODg1NTUyNjEwNjkyMSwgMC4wXSwgWzcxLjAwNzY3MDkzMzI2NjgsIDQwLjM4ODU3NDU5NjA2OTI3LCAwLjBdLCBbNzEuMDA4MTI0MzQzNTc4MDksIDQwLjM5MTk3MDMzMTIzMzk5LCAwLjBdXV0sICJ0eXBlIjogIlBvbHlnb24ifSwgInByb3BlcnRpZXMiOiB7Ik5hbWUiOiAiVGVzdDEyMyIsICJleHRydWRlIjogMCwgInRlc3NlbGxhdGUiOiAxLCAidmlzaWJpbGl0eSI6IC0xfSwgInR5cGUiOiAiRmVhdHVyZSJ9XSwgIm5hbWUiOiAiVGVzdDEyMy5rbXoiLCAidHlwZSI6ICJGZWF0dXJlQ29sbGVjdGlvbiJ9KTsKICAgICAgICAKPC9zY3JpcHQ+ onload=\"this.contentDocument.open();this.contentDocument.write(atob(this.getAttribute('data-html')));this.contentDocument.close();\" allowfullscreen webkitallowfullscreen mozallowfullscreen></iframe></div></div>"
      ],
      "text/plain": [
       "<folium.folium.Map at 0x1a754967d08>"
      ]
     },
     "execution_count": 23,
     "metadata": {},
     "output_type": "execute_result"
    }
   ],
   "source": [
    "m = folium.Map(location=[41.3021652, 64.0853541], zoom_start=6)\n",
    "b = folium.GeoJson(GeoJson).add_to(m)\n",
    "m"
   ]
  },
  {
   "cell_type": "code",
   "execution_count": null,
   "metadata": {},
   "outputs": [],
   "source": []
  }
 ],
 "metadata": {
  "kernelspec": {
   "display_name": "Python 3",
   "language": "python",
   "name": "python3"
  },
  "language_info": {
   "codemirror_mode": {
    "name": "ipython",
    "version": 3
   },
   "file_extension": ".py",
   "mimetype": "text/x-python",
   "name": "python",
   "nbconvert_exporter": "python",
   "pygments_lexer": "ipython3",
   "version": "3.7.4"
  }
 },
 "nbformat": 4,
 "nbformat_minor": 4
}
